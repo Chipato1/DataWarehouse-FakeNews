{
 "cells": [
  {
   "cell_type": "code",
   "execution_count": 2,
   "id": "2351cb2a",
   "metadata": {},
   "outputs": [],
   "source": [
    "from pyhive import hive"
   ]
  },
  {
   "cell_type": "code",
   "execution_count": 3,
   "id": "41ce06a5",
   "metadata": {},
   "outputs": [],
   "source": [
    "#establish the connection to a local hive server running on Port 10000\n",
    "conn = hive.Connection(host=\"localhost\", port=10000, username=\"cloudera\")\n",
    "cursor = conn.cursor()"
   ]
  },
  {
   "cell_type": "code",
   "execution_count": 4,
   "id": "6a9b5621",
   "metadata": {},
   "outputs": [
    {
     "name": "stdout",
     "output_type": "stream",
     "text": [
      "[(0, 'Pants on Fire!'), (1, 'False'), (2, 'Mostly False'), (3, 'Half-True'), (4, 'Mostly True'), (5, 'True')]\n"
     ]
    }
   ],
   "source": [
    "query = 'SELECT * FROM userdb.label'\n",
    "cursor.execute(query)\n",
    "\n",
    "print(cursor.fetchall())"
   ]
  },
  {
   "cell_type": "code",
   "execution_count": 34,
   "id": "2450eb41",
   "metadata": {},
   "outputs": [
    {
     "data": {
      "text/plain": [
       "63"
      ]
     },
     "execution_count": 34,
     "metadata": {},
     "output_type": "execute_result"
    }
   ],
   "source": [
    "def getlength(cursor, id):\n",
    "    query = 'SELECT claim FROM userdb.dim_content WHERE content_id =' + str(id)\n",
    "    cursor.execute(query)\n",
    "    x = cursor.fetchall()\n",
    "    return len(x[0][0])"
   ]
  },
  {
   "cell_type": "code",
   "execution_count": 5,
   "id": "9892e7c8",
   "metadata": {},
   "outputs": [],
   "source": [
    "#create a schema 'userdb' for this data warehouse\n",
    "schema_crt = 'CREATE SCHEMA userdb'\n",
    "res = cursor.execute(schema_crt)"
   ]
  },
  {
   "cell_type": "code",
   "execution_count": 219,
   "id": "1352869f",
   "metadata": {},
   "outputs": [],
   "source": [
    "query_string = \"CREATE TABLE IF NOT EXISTS userdb.master ( \"\\\n",
    "\"institution_url String, \"\\\n",
    "\"label_description String, \"\\\n",
    "\"title String, \"\\\n",
    "\"claim String, \"\\\n",
    "\"researcher String, \"\\\n",
    "\"editor String, \"\\\n",
    "\"category String, \"\\\n",
    "\"origin_url String, \"\\\n",
    "\"first_citation boolean, \"\\\n",
    "\"author String, \"\\\n",
    "\"hour String, \"\\\n",
    "\"day int, \"\\\n",
    "\"month String, \"\\\n",
    "\"day_of_the_week String, \"\\\n",
    "\"year int, \"\\\n",
    "\"platform String, \"\\\n",
    "\"label_id int, \"\\\n",
    "\"verifier_id int, \"\\\n",
    "\"source_id int, \"\\\n",
    "\"content_id int, \"\\\n",
    "\"time_id int) \"\\\n",
    "\"ROW FORMAT DELIMITED \"\\\n",
    "\"FIELDS TERMINATED BY ',' ESCAPED BY '~'\"\n",
    "\n",
    "#create a master table that contains all information \n",
    "res = cursor.execute(query_string)\n",
    "\n",
    "#load the data from the cleaned csv\n",
    "copy_data = \"LOAD DATA LOCAL INPATH '/hive_data.csv' INTO TABLE userdb.master\"\n",
    "res = cursor.execute(copy_data)"
   ]
  },
  {
   "cell_type": "code",
   "execution_count": 213,
   "id": "3e7ee9f6",
   "metadata": {},
   "outputs": [
    {
     "data": {
      "text/plain": [
       "'\\nfor i in range(len(x)):\\n    if x[i][0] not in range(6):\\n        print(x[i][0])\\n        print(i)'"
      ]
     },
     "execution_count": 213,
     "metadata": {},
     "output_type": "execute_result"
    }
   ],
   "source": [
    "#control if the table was created \n",
    "res = cursor.execute(\"Select label_id FROM userdb.master\")\n",
    "print(cursor.fetchall())\n",
    "'''\n",
    "#control if labels where parsed correctly, especially wrong escapes cause problems in practice\n",
    "#can be done similar with other columns\n",
    "for i in range(len(x)):\n",
    "    if x[i][0] not in range(6):\n",
    "        print(x[i][0])\n",
    "        print(i)'''"
   ]
  },
  {
   "cell_type": "code",
   "execution_count": 223,
   "id": "03eabff5",
   "metadata": {},
   "outputs": [],
   "source": [
    "#Create the fact table\n",
    "query_string_fact = \"CREATE TABLE userdb.fact_news_claim \"\\\n",
    "\"AS SELECT content_id, time_id, source_id, verifier_id, label_id FROM userdb.master\"\n",
    "res = cursor.execute(query_string_fact)"
   ]
  },
  {
   "cell_type": "code",
   "execution_count": 269,
   "id": "8173dea0",
   "metadata": {},
   "outputs": [],
   "source": [
    "#Create the time dimension table\n",
    "query_string_fact = \"CREATE TABLE userdb.dim_time \"\\\n",
    "\"AS SELECT time_id, hour, day, day_of_the_week, month, year FROM userdb.master\"\n",
    "res = cursor.execute(query_string_fact)"
   ]
  },
  {
   "cell_type": "code",
   "execution_count": 108,
   "id": "88d29c68",
   "metadata": {},
   "outputs": [],
   "source": [
    "#Create the content dimension table\n",
    "query_string_fact = \"CREATE TABLE userdb.dim_content \"\\\n",
    "\"AS SELECT content_id, claim, title, category FROM userdb.master\"\n",
    "res = cursor.execute(query_string_fact)"
   ]
  },
  {
   "cell_type": "code",
   "execution_count": 296,
   "id": "77bd7ae1",
   "metadata": {},
   "outputs": [],
   "source": [
    "#Create the source dimension source\n",
    "query_string_fact = \"CREATE TABLE userdb.dim_source \"\\\n",
    "\"AS SELECT source_id, origin_url, author, platform, first_citation FROM userdb.master\"\n",
    "res = cursor.execute(query_string_fact)"
   ]
  },
  {
   "cell_type": "code",
   "execution_count": 239,
   "id": "616b6181",
   "metadata": {},
   "outputs": [],
   "source": [
    "#Create the label dimension label using the distinct label to reconstructe the mapping\n",
    "query_string_fact = \"CREATE TABLE userdb.label \"\\\n",
    "\"AS SELECT DISTINCT label_id, label_description FROM userdb.master\"\n",
    "res = cursor.execute(query_string_fact)"
   ]
  },
  {
   "cell_type": "code",
   "execution_count": null,
   "id": "d8cd31b7",
   "metadata": {},
   "outputs": [],
   "source": [
    "#Drop the unorganized helper table at the end\n",
    "res = cursor.execute(\"Drop table userdb.master\")"
   ]
  },
  {
   "cell_type": "code",
   "execution_count": 280,
   "id": "830e0bcf",
   "metadata": {},
   "outputs": [],
   "source": [
    "'''\n",
    "#test query to control if everything worked\n",
    "query_string = \"SELECT fact_news_claim.source_id, count(*) AS cnt, dim_time.year, dim_time.month \"\\\n",
    "\"FROM userdb.fact_news_claim \"\\\n",
    "\"JOIN userdb.dim_time \"\\\n",
    "\" ON fact_news_claim.time_id = dim_time.time_id \"\\\n",
    "\"GROUP BY fact_news_claim.source_id, dim_time.month, dim_time.year\"\n",
    "\n",
    "cursor.execute(query_string)\n",
    "x = cursor.fetchall()'''\n"
   ]
  },
  {
   "cell_type": "code",
   "execution_count": null,
   "id": "bbde5747",
   "metadata": {},
   "outputs": [],
   "source": []
  },
  {
   "cell_type": "code",
   "execution_count": null,
   "id": "df28f30f",
   "metadata": {},
   "outputs": [],
   "source": []
  },
  {
   "cell_type": "code",
   "execution_count": null,
   "id": "966ca4b6",
   "metadata": {},
   "outputs": [],
   "source": []
  },
  {
   "cell_type": "code",
   "execution_count": null,
   "id": "e6105c01",
   "metadata": {},
   "outputs": [],
   "source": []
  }
 ],
 "metadata": {
  "kernelspec": {
   "display_name": "Python 3 (ipykernel)",
   "language": "python",
   "name": "python3"
  },
  "language_info": {
   "codemirror_mode": {
    "name": "ipython",
    "version": 3
   },
   "file_extension": ".py",
   "mimetype": "text/x-python",
   "name": "python",
   "nbconvert_exporter": "python",
   "pygments_lexer": "ipython3",
   "version": "3.8.10"
  }
 },
 "nbformat": 4,
 "nbformat_minor": 5
}
